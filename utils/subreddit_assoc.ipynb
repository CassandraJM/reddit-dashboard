{
 "cells": [
  {
   "cell_type": "code",
   "execution_count": 1,
   "metadata": {},
   "outputs": [],
   "source": [
    "import pandas as pd\n",
    "from pathlib import Path"
   ]
  },
  {
   "cell_type": "code",
   "execution_count": 2,
   "metadata": {},
   "outputs": [],
   "source": [
    "# Load master file\n",
    "master_df = pd.read_csv(\"final_toxicity_classified_comments.csv\")"
   ]
  },
  {
   "cell_type": "code",
   "execution_count": 3,
   "metadata": {},
   "outputs": [],
   "source": [
    "# Create subreddit mapping dictionary\n",
    "subreddit_files = {\n",
    "    \"canada\": \"comments_per_subreddit/canada_comments.csv\",\n",
    "    \"conservative\": \"comments_per_subreddit/conservative_comments.csv\",\n",
    "    \"democrats\": \"comments_per_subreddit/democrats_comments.csv\",\n",
    "    \"politics\": \"comments_per_subreddit/politics_comments.csv\",\n",
    "    \"news\": \"comments_per_subreddit/news_comments.csv\",\n",
    "    \"worldnews\": \"comments_per_subreddit/worldnews_comments.csv\"\n",
    "}"
   ]
  },
  {
   "cell_type": "code",
   "execution_count": 4,
   "metadata": {},
   "outputs": [],
   "source": [
    "# Build subreddit lookup table\n",
    "subreddit_lookup = {}\n",
    "for subreddit, filepath in subreddit_files.items():\n",
    "    sub_df = pd.read_csv(filepath)\n",
    "    subreddit_lookup.update({pid: subreddit for pid in sub_df['post_id'].unique()})"
   ]
  },
  {
   "cell_type": "code",
   "execution_count": 5,
   "metadata": {},
   "outputs": [],
   "source": [
    "# Map subreddits to master df\n",
    "master_df['subreddit'] = master_df['post_id'].map(subreddit_lookup)"
   ]
  },
  {
   "cell_type": "code",
   "execution_count": 6,
   "metadata": {},
   "outputs": [
    {
     "data": {
      "text/html": [
       "<div>\n",
       "<style scoped>\n",
       "    .dataframe tbody tr th:only-of-type {\n",
       "        vertical-align: middle;\n",
       "    }\n",
       "\n",
       "    .dataframe tbody tr th {\n",
       "        vertical-align: top;\n",
       "    }\n",
       "\n",
       "    .dataframe thead th {\n",
       "        text-align: right;\n",
       "    }\n",
       "</style>\n",
       "<table border=\"1\" class=\"dataframe\">\n",
       "  <thead>\n",
       "    <tr style=\"text-align: right;\">\n",
       "      <th></th>\n",
       "      <th>post_id</th>\n",
       "      <th>subreddit</th>\n",
       "    </tr>\n",
       "  </thead>\n",
       "  <tbody>\n",
       "    <tr>\n",
       "      <th>0</th>\n",
       "      <td>1jod9wq</td>\n",
       "      <td>news</td>\n",
       "    </tr>\n",
       "    <tr>\n",
       "      <th>464</th>\n",
       "      <td>1jo04q9</td>\n",
       "      <td>news</td>\n",
       "    </tr>\n",
       "    <tr>\n",
       "      <th>1066</th>\n",
       "      <td>1jo7n0i</td>\n",
       "      <td>news</td>\n",
       "    </tr>\n",
       "    <tr>\n",
       "      <th>2357</th>\n",
       "      <td>1jog871</td>\n",
       "      <td>canada</td>\n",
       "    </tr>\n",
       "    <tr>\n",
       "      <th>2576</th>\n",
       "      <td>1jo46t1</td>\n",
       "      <td>canada</td>\n",
       "    </tr>\n",
       "  </tbody>\n",
       "</table>\n",
       "</div>"
      ],
      "text/plain": [
       "      post_id subreddit\n",
       "0     1jod9wq      news\n",
       "464   1jo04q9      news\n",
       "1066  1jo7n0i      news\n",
       "2357  1jog871    canada\n",
       "2576  1jo46t1    canada"
      ]
     },
     "execution_count": 6,
     "metadata": {},
     "output_type": "execute_result"
    }
   ],
   "source": [
    "# Verify\n",
    "master_df[['post_id', 'subreddit']].drop_duplicates().head()"
   ]
  },
  {
   "cell_type": "code",
   "execution_count": 14,
   "metadata": {},
   "outputs": [
    {
     "data": {
      "text/plain": [
       "Index(['user', 'post_id', 'comment', 'upvotes', 'responding_to',\n",
       "       'responding_to_id', 'comment_id', 'links', 'has_sarcasm', 'has_joke',\n",
       "       'bert_embed', 'preprocessed_text', 'tfidf_embed', 'Title_x',\n",
       "       'text_sentiment', 'sentiment_difference', 'entity_sentiments', 'fear',\n",
       "       'anger', 'anticipation', 'trust', 'surprise', 'positive', 'negative',\n",
       "       'sadness', 'disgust', 'joy', 'toxic_word_count', 'left_wing',\n",
       "       'righy_wing', 'Title', 'predictions', 'probabilities',\n",
       "       'predicted_label', 'subreddit'],\n",
       "      dtype='object')"
      ]
     },
     "execution_count": 14,
     "metadata": {},
     "output_type": "execute_result"
    }
   ],
   "source": [
    "master_df.columns"
   ]
  },
  {
   "cell_type": "code",
   "execution_count": 7,
   "metadata": {},
   "outputs": [
    {
     "data": {
      "text/html": [
       "<div>\n",
       "<style scoped>\n",
       "    .dataframe tbody tr th:only-of-type {\n",
       "        vertical-align: middle;\n",
       "    }\n",
       "\n",
       "    .dataframe tbody tr th {\n",
       "        vertical-align: top;\n",
       "    }\n",
       "\n",
       "    .dataframe thead th {\n",
       "        text-align: right;\n",
       "    }\n",
       "</style>\n",
       "<table border=\"1\" class=\"dataframe\">\n",
       "  <thead>\n",
       "    <tr style=\"text-align: right;\">\n",
       "      <th></th>\n",
       "      <th>user</th>\n",
       "      <th>post_id</th>\n",
       "      <th>comment</th>\n",
       "      <th>upvotes</th>\n",
       "      <th>responding_to</th>\n",
       "      <th>responding_to_id</th>\n",
       "      <th>comment_id</th>\n",
       "      <th>links</th>\n",
       "      <th>has_sarcasm</th>\n",
       "      <th>has_joke</th>\n",
       "      <th>...</th>\n",
       "      <th>disgust</th>\n",
       "      <th>joy</th>\n",
       "      <th>toxic_word_count</th>\n",
       "      <th>left_wing</th>\n",
       "      <th>righy_wing</th>\n",
       "      <th>Title</th>\n",
       "      <th>predictions</th>\n",
       "      <th>probabilities</th>\n",
       "      <th>predicted_label</th>\n",
       "      <th>subreddit</th>\n",
       "    </tr>\n",
       "  </thead>\n",
       "  <tbody>\n",
       "    <tr>\n",
       "      <th>0</th>\n",
       "      <td>paleo2002</td>\n",
       "      <td>1jod9wq</td>\n",
       "      <td>Unless they bump that up to 150 billion, this ...</td>\n",
       "      <td>9385</td>\n",
       "      <td>Aggravating_Money992</td>\n",
       "      <td>1jod9wq</td>\n",
       "      <td>mkqwfb9</td>\n",
       "      <td>[]</td>\n",
       "      <td>False</td>\n",
       "      <td>False</td>\n",
       "      <td>...</td>\n",
       "      <td>NaN</td>\n",
       "      <td>NaN</td>\n",
       "      <td>0</td>\n",
       "      <td>0</td>\n",
       "      <td>0</td>\n",
       "      <td>SEC continuing $150 million lawsuit against El...</td>\n",
       "      <td>0</td>\n",
       "      <td>0.060000</td>\n",
       "      <td>Right</td>\n",
       "      <td>news</td>\n",
       "    </tr>\n",
       "    <tr>\n",
       "      <th>1</th>\n",
       "      <td>supercyberlurker</td>\n",
       "      <td>1jod9wq</td>\n",
       "      <td>It's.... depressing.. that I even have to ask ...</td>\n",
       "      <td>1681</td>\n",
       "      <td>Aggravating_Money992</td>\n",
       "      <td>1jod9wq</td>\n",
       "      <td>mkqw7ar</td>\n",
       "      <td>[]</td>\n",
       "      <td>False</td>\n",
       "      <td>False</td>\n",
       "      <td>...</td>\n",
       "      <td>0.5</td>\n",
       "      <td>NaN</td>\n",
       "      <td>0</td>\n",
       "      <td>0</td>\n",
       "      <td>0</td>\n",
       "      <td>SEC continuing $150 million lawsuit against El...</td>\n",
       "      <td>0</td>\n",
       "      <td>0.080000</td>\n",
       "      <td>Right</td>\n",
       "      <td>news</td>\n",
       "    </tr>\n",
       "    <tr>\n",
       "      <th>2</th>\n",
       "      <td>Deranged_Kitsune</td>\n",
       "      <td>1jod9wq</td>\n",
       "      <td>Sounds like doge will be making another round ...</td>\n",
       "      <td>241</td>\n",
       "      <td>Aggravating_Money992</td>\n",
       "      <td>1jod9wq</td>\n",
       "      <td>mkr2i7p</td>\n",
       "      <td>[]</td>\n",
       "      <td>False</td>\n",
       "      <td>False</td>\n",
       "      <td>...</td>\n",
       "      <td>0.0</td>\n",
       "      <td>0.00</td>\n",
       "      <td>0</td>\n",
       "      <td>0</td>\n",
       "      <td>0</td>\n",
       "      <td>SEC continuing $150 million lawsuit against El...</td>\n",
       "      <td>0</td>\n",
       "      <td>0.130741</td>\n",
       "      <td>Right</td>\n",
       "      <td>news</td>\n",
       "    </tr>\n",
       "    <tr>\n",
       "      <th>3</th>\n",
       "      <td>flyingthroughspace</td>\n",
       "      <td>1jod9wq</td>\n",
       "      <td>Didn't he just pay himself $43 billion to buy ...</td>\n",
       "      <td>682</td>\n",
       "      <td>Aggravating_Money992</td>\n",
       "      <td>1jod9wq</td>\n",
       "      <td>mkqwxan</td>\n",
       "      <td>[]</td>\n",
       "      <td>False</td>\n",
       "      <td>False</td>\n",
       "      <td>...</td>\n",
       "      <td>NaN</td>\n",
       "      <td>0.25</td>\n",
       "      <td>0</td>\n",
       "      <td>0</td>\n",
       "      <td>0</td>\n",
       "      <td>SEC continuing $150 million lawsuit against El...</td>\n",
       "      <td>1</td>\n",
       "      <td>0.660000</td>\n",
       "      <td>Right</td>\n",
       "      <td>news</td>\n",
       "    </tr>\n",
       "    <tr>\n",
       "      <th>4</th>\n",
       "      <td>gucknbuck</td>\n",
       "      <td>1jod9wq</td>\n",
       "      <td>150 million to a billionaire is the equivalent...</td>\n",
       "      <td>198</td>\n",
       "      <td>Aggravating_Money992</td>\n",
       "      <td>1jod9wq</td>\n",
       "      <td>mkr1epy</td>\n",
       "      <td>[]</td>\n",
       "      <td>False</td>\n",
       "      <td>False</td>\n",
       "      <td>...</td>\n",
       "      <td>NaN</td>\n",
       "      <td>NaN</td>\n",
       "      <td>0</td>\n",
       "      <td>0</td>\n",
       "      <td>0</td>\n",
       "      <td>SEC continuing $150 million lawsuit against El...</td>\n",
       "      <td>0</td>\n",
       "      <td>0.010000</td>\n",
       "      <td>Right</td>\n",
       "      <td>news</td>\n",
       "    </tr>\n",
       "  </tbody>\n",
       "</table>\n",
       "<p>5 rows × 35 columns</p>\n",
       "</div>"
      ],
      "text/plain": [
       "                 user  post_id  \\\n",
       "0           paleo2002  1jod9wq   \n",
       "1    supercyberlurker  1jod9wq   \n",
       "2    Deranged_Kitsune  1jod9wq   \n",
       "3  flyingthroughspace  1jod9wq   \n",
       "4           gucknbuck  1jod9wq   \n",
       "\n",
       "                                             comment  upvotes  \\\n",
       "0  Unless they bump that up to 150 billion, this ...     9385   \n",
       "1  It's.... depressing.. that I even have to ask ...     1681   \n",
       "2  Sounds like doge will be making another round ...      241   \n",
       "3  Didn't he just pay himself $43 billion to buy ...      682   \n",
       "4  150 million to a billionaire is the equivalent...      198   \n",
       "\n",
       "          responding_to responding_to_id comment_id links  has_sarcasm  \\\n",
       "0  Aggravating_Money992          1jod9wq    mkqwfb9    []        False   \n",
       "1  Aggravating_Money992          1jod9wq    mkqw7ar    []        False   \n",
       "2  Aggravating_Money992          1jod9wq    mkr2i7p    []        False   \n",
       "3  Aggravating_Money992          1jod9wq    mkqwxan    []        False   \n",
       "4  Aggravating_Money992          1jod9wq    mkr1epy    []        False   \n",
       "\n",
       "   has_joke  ... disgust   joy toxic_word_count left_wing  righy_wing  \\\n",
       "0     False  ...     NaN   NaN                0         0           0   \n",
       "1     False  ...     0.5   NaN                0         0           0   \n",
       "2     False  ...     0.0  0.00                0         0           0   \n",
       "3     False  ...     NaN  0.25                0         0           0   \n",
       "4     False  ...     NaN   NaN                0         0           0   \n",
       "\n",
       "                                               Title predictions  \\\n",
       "0  SEC continuing $150 million lawsuit against El...           0   \n",
       "1  SEC continuing $150 million lawsuit against El...           0   \n",
       "2  SEC continuing $150 million lawsuit against El...           0   \n",
       "3  SEC continuing $150 million lawsuit against El...           1   \n",
       "4  SEC continuing $150 million lawsuit against El...           0   \n",
       "\n",
       "   probabilities  predicted_label  subreddit  \n",
       "0       0.060000            Right       news  \n",
       "1       0.080000            Right       news  \n",
       "2       0.130741            Right       news  \n",
       "3       0.660000            Right       news  \n",
       "4       0.010000            Right       news  \n",
       "\n",
       "[5 rows x 35 columns]"
      ]
     },
     "execution_count": 7,
     "metadata": {},
     "output_type": "execute_result"
    }
   ],
   "source": [
    "master_df.head()"
   ]
  },
  {
   "cell_type": "code",
   "execution_count": 15,
   "metadata": {},
   "outputs": [
    {
     "data": {
      "text/plain": [
       "predicted_label\n",
       "Right    15603\n",
       "Name: count, dtype: int64"
      ]
     },
     "execution_count": 15,
     "metadata": {},
     "output_type": "execute_result"
    }
   ],
   "source": [
    "master_df['predicted_label'].value_counts()"
   ]
  },
  {
   "cell_type": "code",
   "execution_count": 9,
   "metadata": {},
   "outputs": [
    {
     "data": {
      "text/plain": [
       "(15603, 35)"
      ]
     },
     "execution_count": 9,
     "metadata": {},
     "output_type": "execute_result"
    }
   ],
   "source": [
    "master_df.shape"
   ]
  },
  {
   "cell_type": "code",
   "execution_count": 10,
   "metadata": {},
   "outputs": [
    {
     "data": {
      "text/plain": [
       "np.int64(0)"
      ]
     },
     "execution_count": 10,
     "metadata": {},
     "output_type": "execute_result"
    }
   ],
   "source": [
    "master_df['subreddit'].isnull().sum()"
   ]
  },
  {
   "cell_type": "code",
   "execution_count": 11,
   "metadata": {},
   "outputs": [
    {
     "data": {
      "text/plain": [
       "np.int64(0)"
      ]
     },
     "execution_count": 11,
     "metadata": {},
     "output_type": "execute_result"
    }
   ],
   "source": [
    "master_df['subreddit'].isna().sum()"
   ]
  },
  {
   "cell_type": "code",
   "execution_count": 12,
   "metadata": {},
   "outputs": [
    {
     "data": {
      "text/plain": [
       "subreddit\n",
       "canada          4665\n",
       "worldnews       3783\n",
       "politics        3427\n",
       "news            3053\n",
       "democrats        463\n",
       "conservative     212\n",
       "Name: count, dtype: int64"
      ]
     },
     "execution_count": 12,
     "metadata": {},
     "output_type": "execute_result"
    }
   ],
   "source": [
    "master_df['subreddit'].value_counts()"
   ]
  },
  {
   "cell_type": "code",
   "execution_count": 13,
   "metadata": {},
   "outputs": [],
   "source": [
    "master_df.to_csv(\"complete_final_toxicity_classifier.csv\", index=False)"
   ]
  }
 ],
 "metadata": {
  "kernelspec": {
   "display_name": "aa5",
   "language": "python",
   "name": "python3"
  },
  "language_info": {
   "codemirror_mode": {
    "name": "ipython",
    "version": 3
   },
   "file_extension": ".py",
   "mimetype": "text/x-python",
   "name": "python",
   "nbconvert_exporter": "python",
   "pygments_lexer": "ipython3",
   "version": "3.13.2"
  }
 },
 "nbformat": 4,
 "nbformat_minor": 2
}
