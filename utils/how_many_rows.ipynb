{
 "cells": [
  {
   "cell_type": "code",
   "execution_count": 3,
   "metadata": {},
   "outputs": [],
   "source": [
    "import pandas as pd"
   ]
  },
  {
   "cell_type": "code",
   "execution_count": 2,
   "metadata": {},
   "outputs": [],
   "source": [
    "canada_df = \"canada_comments.csv\"\n",
    "conservative_df = \"conservative_comments.csv\"\n",
    "democrats_df = \"democrats_comments.csv\"\n",
    "news_df = \"news_comments.csv\"\n",
    "politics_df = \"Politics_comments.csv\"\n",
    "worldnews_df = \"worldnews_comments.csv\""
   ]
  },
  {
   "cell_type": "code",
   "execution_count": 4,
   "metadata": {},
   "outputs": [],
   "source": [
    "canada_df = pd.read_csv(canada_df)\n",
    "conservative_df = pd.read_csv(conservative_df)\n",
    "democrats_df = pd.read_csv(democrats_df)\n",
    "news_df = pd.read_csv(news_df)\n",
    "politics_df = pd.read_csv(politics_df)\n",
    "worldnews_df = pd.read_csv(worldnews_df)"
   ]
  },
  {
   "cell_type": "code",
   "execution_count": 6,
   "metadata": {},
   "outputs": [],
   "source": [
    "canada_row_num = canada_df.shape[0]\n",
    "conservative_row_num = conservative_df.shape[0]\n",
    "democrats_row_num = democrats_df.shape[0]\n",
    "news_row_num = news_df.shape[0]\n",
    "politics_row_num = politics_df.shape[0]\n",
    "worldnews_row_num = worldnews_df.shape[0]"
   ]
  },
  {
   "cell_type": "code",
   "execution_count": 7,
   "metadata": {},
   "outputs": [
    {
     "data": {
      "text/plain": [
       "11895"
      ]
     },
     "execution_count": 7,
     "metadata": {},
     "output_type": "execute_result"
    }
   ],
   "source": [
    "total_row_num = canada_row_num + conservative_row_num + democrats_row_num + news_row_num + politics_row_num + worldnews_row_num\n",
    "total_row_num"
   ]
  }
 ],
 "metadata": {
  "kernelspec": {
   "display_name": "aa5",
   "language": "python",
   "name": "python3"
  },
  "language_info": {
   "codemirror_mode": {
    "name": "ipython",
    "version": 3
   },
   "file_extension": ".py",
   "mimetype": "text/x-python",
   "name": "python",
   "nbconvert_exporter": "python",
   "pygments_lexer": "ipython3",
   "version": "3.13.2"
  }
 },
 "nbformat": 4,
 "nbformat_minor": 2
}
